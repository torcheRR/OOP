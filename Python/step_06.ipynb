{
 "cells": [
  {
   "cell_type": "code",
   "execution_count": 12,
   "metadata": {},
   "outputs": [],
   "source": [
    "class Product:\n",
    "    def __init__(self,name:str=\"Default\",price:float=0,quantity:int=0) -> None:\n",
    "        print(f\"An instance with name: {name} has been derived from Product class.\")\n",
    "        self.__name = name\n",
    "        self.__price = price\n",
    "        self.__quantity = quantity\n",
    "        \n",
    "    @property    \n",
    "    def name(self):\n",
    "        return self.__name\n",
    "    \n",
    "    @name.setter\n",
    "    def name(self,value:str) -> None:\n",
    "        self.__name = value\n",
    "        \n",
    "    @property\n",
    "    def price(self):\n",
    "        return self.__price\n",
    "    \n",
    "    @price.setter\n",
    "    def price(self,value):\n",
    "        self.__price = value\n",
    "        \n",
    "    @property\n",
    "    def quantity(self):\n",
    "        return self.__quantity\n",
    "    \n",
    "    @quantity.setter\n",
    "    def quantity(self,value):\n",
    "        self.__quantity = value\n",
    "        \n",
    "    def get_total_price(self) -> float:\n",
    "        return (self.__price * self.__quantity)"
   ]
  },
  {
   "cell_type": "code",
   "execution_count": 13,
   "metadata": {},
   "outputs": [
    {
     "name": "stdout",
     "output_type": "stream",
     "text": [
      "An instance with name: Laptop has been derived from Product class.\n",
      "HP Laptop\n",
      "800\n",
      "10\n",
      "8000\n"
     ]
    }
   ],
   "source": [
    "item1 = Product(\"Laptop\",799.99,2)\n",
    "item1.name= \"HP Laptop\"\n",
    "item1.price= 800\n",
    "item1.quantity=10\n",
    "\n",
    "print(item1.name)\n",
    "print(item1.price)\n",
    "print(item1.quantity)\n",
    "print(item1.get_total_price())"
   ]
  },
  {
   "cell_type": "code",
   "execution_count": 7,
   "metadata": {},
   "outputs": [
    {
     "name": "stdout",
     "output_type": "stream",
     "text": [
      "An instance with name: Default has been derived from Product class.\n"
     ]
    }
   ],
   "source": [
    "item2 = Product()\n",
    "\n",
    "#dinamik özellik tanımı\n",
    "item2.__name = \"Computer\"\n",
    "item2.__price = 1999.99\n",
    "item2.__quantity = 3"
   ]
  },
  {
   "cell_type": "code",
   "execution_count": 8,
   "metadata": {},
   "outputs": [
    {
     "name": "stdout",
     "output_type": "stream",
     "text": [
      "Default\n",
      "0\n",
      "0\n"
     ]
    }
   ],
   "source": [
    "print(item2.name)\n",
    "print(item2.price)\n",
    "print(item2.quantity)"
   ]
  },
  {
   "cell_type": "code",
   "execution_count": 9,
   "metadata": {},
   "outputs": [
    {
     "name": "stdout",
     "output_type": "stream",
     "text": [
      "An instance with name: Keyboad has been derived from Product class.\n",
      "Keyboad\n",
      "25.99\n",
      "0\n"
     ]
    }
   ],
   "source": [
    "item3 = Product(\"Keyboad\",25.99)\n",
    "print(item3.name)\n",
    "print(item3.price)\n",
    "print(item3.quantity)"
   ]
  }
 ],
 "metadata": {
  "kernelspec": {
   "display_name": "Python 3",
   "language": "python",
   "name": "python3"
  },
  "language_info": {
   "codemirror_mode": {
    "name": "ipython",
    "version": 3
   },
   "file_extension": ".py",
   "mimetype": "text/x-python",
   "name": "python",
   "nbconvert_exporter": "python",
   "pygments_lexer": "ipython3",
   "version": "3.11.8"
  }
 },
 "nbformat": 4,
 "nbformat_minor": 2
}
